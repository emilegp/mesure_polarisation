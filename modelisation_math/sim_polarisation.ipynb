{
 "cells": [
  {
   "cell_type": "code",
   "execution_count": 1,
   "id": "8ad20b13-d2e4-4901-9ccb-b6a5d48a80f1",
   "metadata": {
    "execution": {
     "iopub.execute_input": "2024-10-27T19:12:22.368694Z",
     "iopub.status.busy": "2024-10-27T19:12:22.367712Z",
     "iopub.status.idle": "2024-10-27T19:12:23.048634Z",
     "shell.execute_reply": "2024-10-27T19:12:23.047630Z",
     "shell.execute_reply.started": "2024-10-27T19:12:22.368639Z"
    }
   },
   "outputs": [],
   "source": [
    "import numpy as np\n",
    "import matplotlib.pyplot as pl"
   ]
  },
  {
   "cell_type": "code",
   "execution_count": null,
   "id": "38b2e528-c998-4d2e-9216-cfa8893f64d0",
   "metadata": {},
   "outputs": [],
   "source": []
  }
 ],
 "metadata": {
  "kernelspec": {
   "display_name": "Python 3 (ipykernel)",
   "language": "python",
   "name": "python3"
  },
  "language_info": {
   "codemirror_mode": {
    "name": "ipython",
    "version": 3
   },
   "file_extension": ".py",
   "mimetype": "text/x-python",
   "name": "python",
   "nbconvert_exporter": "python",
   "pygments_lexer": "ipython3",
   "version": "3.12.7"
  }
 },
 "nbformat": 4,
 "nbformat_minor": 5
}
